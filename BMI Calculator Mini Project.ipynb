{
 "cells": [
  {
   "cell_type": "markdown",
   "id": "c4c90b18-86e2-40f7-9f70-5a23f7eb6be5",
   "metadata": {},
   "source": [
    "# BMI Calculator in Metric Units"
   ]
  },
  {
   "cell_type": "code",
   "execution_count": 2,
   "id": "94517e78-3d1f-4deb-bcf0-d1bae66fb218",
   "metadata": {},
   "outputs": [
    {
     "name": "stdin",
     "output_type": "stream",
     "text": [
      "Enter your Name: sanduni\n",
      "Enter your weight in kilograms: 47\n",
      "Enter your height in meters: 1.55\n"
     ]
    },
    {
     "name": "stdout",
     "output_type": "stream",
     "text": [
      "19.562955254942764\n",
      "sanduni,you are normalweight.\n"
     ]
    }
   ],
   "source": [
    "name=input('Enter your Name:')\n",
    "weight=float(input('Enter your weight in kilograms:'))\n",
    "height=float(input('Enter your height in meters:'))\n",
    "BMI=weight/(height*height)\n",
    "print(BMI)\n",
    "#you can enter your values in floating type for weight & height\n",
    "#Using WHO Adult BMI Categories \n",
    "if BMI>0:\n",
    "    if(BMI<18.4):\n",
    "        print(name+',you are Underweight.')\n",
    "    elif(BMI<24.9):\n",
    "        print(name+',you are normalweight.')\n",
    "    elif(BMI<29.9):\n",
    "         print(name+',you are overweight.')\n",
    "    elif(BMI<34.9):\n",
    "        print(name+',you are moderatelty obese.')\n",
    "    elif(BMI<39.9):\n",
    "        print(name+',you are severly obese.') \n",
    "    else:\n",
    "        print(name+',you are morbidly obese.')\n",
    "else:\n",
    "    print('Enter valid value')"
   ]
  },
  {
   "cell_type": "code",
   "execution_count": null,
   "id": "75d37258-0241-4ef5-8ff8-6c059512c8ba",
   "metadata": {},
   "outputs": [],
   "source": []
  }
 ],
 "metadata": {
  "kernelspec": {
   "display_name": "Python 3 (ipykernel)",
   "language": "python",
   "name": "python3"
  },
  "language_info": {
   "codemirror_mode": {
    "name": "ipython",
    "version": 3
   },
   "file_extension": ".py",
   "mimetype": "text/x-python",
   "name": "python",
   "nbconvert_exporter": "python",
   "pygments_lexer": "ipython3",
   "version": "3.12.4"
  }
 },
 "nbformat": 4,
 "nbformat_minor": 5
}
